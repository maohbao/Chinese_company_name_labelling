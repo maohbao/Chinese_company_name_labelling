{
 "cells": [
  {
   "cell_type": "code",
   "execution_count": 118,
   "metadata": {},
   "outputs": [],
   "source": [
    "###########  名称分段，用括号分开\n",
    "#file='/data/ai_group/CompanyName_test/name3_result4.txt'   ### name3_result.txt\n",
    "file='train.txt'   \n",
    "\n",
    "f=open(file,'r',encoding='utf-8')\n",
    "ls=f.read().strip().splitlines()\n",
    "f.close()"
   ]
  },
  {
   "cell_type": "code",
   "execution_count": 119,
   "metadata": {},
   "outputs": [],
   "source": [
    "ls_new=[]\n",
    "for item in ls:\n",
    "    ls_item=item.split('/')\n",
    "    assert len(ls_item)==4\n",
    "    \n",
    "    ls_new.append('('+ls_item[0]+')'+'['+ls_item[1]+']'+'{'+ls_item[2]+'}'+'<'+ls_item[3]+'>')\n",
    "    \n",
    "f=open(file+'.seg','w',encoding='utf-8')    \n",
    "f.write('\\n'.join(ls_new))\n",
    "f.close()\n"
   ]
  },
  {
   "cell_type": "code",
   "execution_count": null,
   "metadata": {},
   "outputs": [],
   "source": []
  },
  {
   "cell_type": "code",
   "execution_count": null,
   "metadata": {},
   "outputs": [],
   "source": []
  },
  {
   "cell_type": "code",
   "execution_count": 32,
   "metadata": {},
   "outputs": [],
   "source": []
  },
  {
   "cell_type": "code",
   "execution_count": null,
   "metadata": {},
   "outputs": [],
   "source": []
  },
  {
   "cell_type": "code",
   "execution_count": 74,
   "metadata": {},
   "outputs": [],
   "source": [
    "import jieba\n",
    "import jieba.posseg as pseg\n",
    "import sys\n",
    "\n",
    "### jieba 分词\n",
    "def GetResult(line):\n",
    "    words =pseg.cut(line)\n",
    "    list_w=[]\n",
    "    for w in words:\n",
    "        list_w.append((w.word, w.flag))\n",
    "        # print(w.word,w.flag)\n",
    "    return list_w\n"
   ]
  },
  {
   "cell_type": "code",
   "execution_count": 128,
   "metadata": {},
   "outputs": [],
   "source": [
    "### 查找指定数量的 NZ 项\n",
    "def find_nz2(s):\n",
    "    ret=GetResult(s)\n",
    "    ls_nz_index=[]\n",
    "    for i,item in enumerate(ret):\n",
    "        if item[1]=='nz' :\n",
    "            ls_nz_index.append(i)\n",
    "\n",
    "    if len(ls_nz_index)>=2:  ##### 致少两个NZ\n",
    "        if ls_nz_index[0]+1==ls_nz_index[1] and ls_nz_index[0]>0:\n",
    "            if len(ret[ls_nz_index[0]][0])==2 and len(ret[ls_nz_index[1]][0])==2:\n",
    "                return True\n",
    "            \n",
    "    return False\n",
    "    "
   ]
  },
  {
   "cell_type": "code",
   "execution_count": 134,
   "metadata": {},
   "outputs": [],
   "source": [
    "# name3_ex_fail2.txt   name3\n",
    "f=open('/data/ai_group/CompanyName_test/name3_ex_fail2.txt','r',encoding='utf-8')\n",
    "ls=f.read().strip().splitlines()\n",
    "f.close()"
   ]
  },
  {
   "cell_type": "code",
   "execution_count": 138,
   "metadata": {},
   "outputs": [],
   "source": [
    "### 输出 nz2\n",
    "# for line in ls:\n",
    "#     if find_nz2(line)==True:\n",
    "#         print(line)"
   ]
  },
  {
   "cell_type": "code",
   "execution_count": 136,
   "metadata": {},
   "outputs": [],
   "source": [
    "# for line in ls:\n",
    "#     if line.find('分公司')>0 or line.find('营业部')>0 or line.find('分厂')>0:  ### 分公司，分部\n",
    "#         print(line)"
   ]
  },
  {
   "cell_type": "code",
   "execution_count": 126,
   "metadata": {},
   "outputs": [
    {
     "data": {
      "text/plain": [
       "[('都匀市', 'ns'), ('星成', 'nz'), ('通讯', 'nz'), ('有限责任', 'l'), ('公司', 'n')]"
      ]
     },
     "execution_count": 126,
     "metadata": {},
     "output_type": "execute_result"
    }
   ],
   "source": [
    "s='都匀市星成通讯有限责任公司'\n",
    "GetResult(s)"
   ]
  },
  {
   "cell_type": "code",
   "execution_count": null,
   "metadata": {},
   "outputs": [],
   "source": []
  },
  {
   "cell_type": "code",
   "execution_count": null,
   "metadata": {},
   "outputs": [],
   "source": []
  },
  {
   "cell_type": "code",
   "execution_count": 124,
   "metadata": {},
   "outputs": [],
   "source": []
  },
  {
   "cell_type": "code",
   "execution_count": null,
   "metadata": {},
   "outputs": [],
   "source": []
  },
  {
   "cell_type": "code",
   "execution_count": null,
   "metadata": {},
   "outputs": [],
   "source": []
  }
 ],
 "metadata": {
  "kernelspec": {
   "display_name": "Python 3",
   "language": "python",
   "name": "python3"
  },
  "language_info": {
   "codemirror_mode": {
    "name": "ipython",
    "version": 3
   },
   "file_extension": ".py",
   "mimetype": "text/x-python",
   "name": "python",
   "nbconvert_exporter": "python",
   "pygments_lexer": "ipython3",
   "version": "3.7.3"
  }
 },
 "nbformat": 4,
 "nbformat_minor": 2
}
